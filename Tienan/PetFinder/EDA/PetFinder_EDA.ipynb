{
  "nbformat": 4,
  "nbformat_minor": 0,
  "metadata": {
    "colab": {
      "name": "PetFinder EDA",
      "version": "0.3.2",
      "provenance": [],
      "collapsed_sections": []
    },
    "kernelspec": {
      "name": "python3",
      "display_name": "Python 3"
    }
  },
  "cells": [
    {
      "cell_type": "code",
      "metadata": {
        "id": "Xsic_EX1xCAk",
        "colab_type": "code",
        "outputId": "d60a5a56-9513-4fc4-acf2-53d3ce1e312e",
        "colab": {
          "base_uri": "https://localhost:8080/",
          "height": 51
        }
      },
      "source": [
        "# Import libraries\n",
        "\n",
        "import numpy as np\n",
        "import pandas as pd\n",
        "import operator\n",
        "from collections import defaultdict\n",
        "\n",
        "from google.colab import drive\n",
        "drive.mount('/content/drive')\n",
        "\n",
        "print(\"Done...\")"
      ],
      "execution_count": 0,
      "outputs": [
        {
          "output_type": "stream",
          "text": [
            "Drive already mounted at /content/drive; to attempt to forcibly remount, call drive.mount(\"/content/drive\", force_remount=True).\n",
            "Done...\n"
          ],
          "name": "stdout"
        }
      ]
    },
    {
      "cell_type": "code",
      "metadata": {
        "id": "iv6eqOscrzzY",
        "colab_type": "code",
        "outputId": "6f4c7e6f-c7d8-4a0d-bee4-11ad41bb0837",
        "colab": {
          "base_uri": "https://localhost:8080/",
          "height": 34
        }
      },
      "source": [
        "# Load data\n",
        "train_csv = pd.read_csv('/content/drive/My Drive/Colab Notebooks/EDA_data/train.csv')\n",
        "label_col = list(train_csv['AdoptionSpeed'])\n",
        "label_set = list(set(label_col))\n",
        "print(label_set)"
      ],
      "execution_count": 0,
      "outputs": [
        {
          "output_type": "stream",
          "text": [
            "[0, 1, 2, 3, 4]\n"
          ],
          "name": "stdout"
        }
      ]
    },
    {
      "cell_type": "markdown",
      "metadata": {
        "id": "mQ3u6P2m0DWH",
        "colab_type": "text"
      },
      "source": [
        "\n",
        "## **Pet name exploration**"
      ]
    },
    {
      "cell_type": "code",
      "metadata": {
        "id": "L4vJfoE-uY_F",
        "colab_type": "code",
        "outputId": "b0791e8f-4b25-4977-9b53-913584bfe2f8",
        "colab": {
          "base_uri": "https://localhost:8080/",
          "height": 122
        }
      },
      "source": [
        "# Count unique names and \"no name\"\n",
        "\n",
        "name_col = list(train_csv['Name'])\n",
        "name_count = defaultdict(int)\n",
        "name_index = defaultdict(list)\n",
        "\n",
        "for x in range(len(name_col)):\n",
        "  name = str(name_col[x]).lower()\n",
        "  if len(name.split()) < 4 and name != 'nan' and 'no name' not in name:\n",
        "    name_count[name] += 1\n",
        "    name_index[name].append(x)\n",
        "  else:\n",
        "    name_count['No name'] += 1\n",
        "    name_index['No name'].append(x)\n",
        "      \n",
        "name_count_sort = dict(sorted(name_count.items(), key=operator.itemgetter(1))[::-1])\n",
        "name_count_more_freq = {x:name_count_sort[x] for x in name_count_sort if name_count_sort[x]>2}\n",
        "del name_count_more_freq['No name']\n",
        "\n",
        "print(\"Total have {} unique names.\\n{} names appeared at least 3 times.\\nFirst 20 unique name counts:\\n{}\".\n",
        "      format(len(name_count_sort), len(name_count_more_freq), list(name_count_more_freq.items())[:20]))\n",
        "print(\"{} samples have name, {} samples dont't\".format(sum(name_count_sort.values())-name_count_sort['No name'], name_count_sort['No name']))"
      ],
      "execution_count": 0,
      "outputs": [
        {
          "output_type": "stream",
          "text": [
            "Total have 7387 unique names.\n",
            "665 names appeared at least 3 times.\n",
            "First 20 unique name counts:\n",
            "[('baby', 67), ('lucky', 66), ('mimi', 59), ('brownie', 55), ('blackie', 49), ('puppy', 48), ('coco', 41), ('kitty', 41), ('max', 40), ('kittens', 39), ('oreo', 38), ('milo', 35), ('tiger', 34), ('angel', 34), ('kiki', 32), ('lucy', 31), ('snowy', 30), ('bobby', 30), ('ginger', 29), ('lily', 29)]\n",
            "12189 samples have name, 2804 samples dont't\n"
          ],
          "name": "stdout"
        }
      ]
    },
    {
      "cell_type": "code",
      "metadata": {
        "id": "vgPjnfuj01UG",
        "colab_type": "code",
        "outputId": "a5ed2101-62e5-4829-851c-77825acc4e4f",
        "colab": {
          "base_uri": "https://localhost:8080/",
          "height": 544
        }
      },
      "source": [
        "# Explore relation between \"name\"/\"no name\" and \"adoption speed\"\n",
        "\n",
        "have_name_detail = defaultdict(int)\n",
        "no_name_detail = defaultdict(int)\n",
        "more_freq_detail = defaultdict(int)\n",
        "for x in name_index:\n",
        "  if x == 'No name':\n",
        "    for y in name_index[x]:\n",
        "      speed = label_col[y]\n",
        "      no_name_detail[speed] += 1\n",
        "  else:\n",
        "    for y in name_index[x]:\n",
        "      speed = label_col[y]\n",
        "      have_name_detail[speed] += 1\n",
        "      if x in name_count_more_freq:\n",
        "        more_freq_detail[speed] += 1\n",
        "        \n",
        "have_name_amount = sum(have_name_detail.values())\n",
        "print(\"Have name:\\nTotal:{}\".format(have_name_amount))\n",
        "for x in label_set:\n",
        "  print(\"Speed {}: {}({}%)\".format(x, have_name_detail[x], round(100*have_name_detail[x]/have_name_amount, 2)))\n",
        "  \n",
        "no_name_amount = sum(no_name_detail.values())\n",
        "print(\"\\nNo name:\\nTotal:{}\".format(no_name_amount))\n",
        "for x in label_set:\n",
        "  print(\"Speed {}: {}({}%)\".format(x, no_name_detail[x], round(100*no_name_detail[x]/no_name_amount, 2)))\n",
        "  \n",
        "more_freq_amount = sum(more_freq_detail.values())\n",
        "print(\"\\nHave name appeared more than 3 times:\\nTotal:{}\".format(more_freq_amount))\n",
        "for x in label_set:\n",
        "  print(\"Speed {}: {}({}%)\".format(x, more_freq_detail[x], round(100*more_freq_detail[x]/more_freq_amount, 2)))\n",
        "\n",
        "print(\"\\nOverall:\\nTotal:{}\".format(len(label_col)))\n",
        "for x in label_set:\n",
        "  print(\"Speed {}: {}({}%)\".format(x, label_col.count(x), round(100*label_col.count(x)/len(label_col), 2)))"
      ],
      "execution_count": 0,
      "outputs": [
        {
          "output_type": "stream",
          "text": [
            "Have name:\n",
            "Total:12189\n",
            "Speed 0: 332(2.72%)\n",
            "Speed 1: 2486(20.4%)\n",
            "Speed 2: 3336(27.37%)\n",
            "Speed 3: 2700(22.15%)\n",
            "Speed 4: 3335(27.36%)\n",
            "\n",
            "No name:\n",
            "Total:2804\n",
            "Speed 0: 78(2.78%)\n",
            "Speed 1: 604(21.54%)\n",
            "Speed 2: 701(25.0%)\n",
            "Speed 3: 559(19.94%)\n",
            "Speed 4: 862(30.74%)\n",
            "\n",
            "Have name appeared more than 3 times:\n",
            "Total:4875\n",
            "Speed 0: 139(2.85%)\n",
            "Speed 1: 1000(20.51%)\n",
            "Speed 2: 1334(27.36%)\n",
            "Speed 3: 1022(20.96%)\n",
            "Speed 4: 1380(28.31%)\n",
            "\n",
            "Overall:\n",
            "Total:14993\n",
            "Speed 0: 410(2.73%)\n",
            "Speed 1: 3090(20.61%)\n",
            "Speed 2: 4037(26.93%)\n",
            "Speed 3: 3259(21.74%)\n",
            "Speed 4: 4197(27.99%)\n"
          ],
          "name": "stdout"
        }
      ]
    },
    {
      "cell_type": "markdown",
      "metadata": {
        "id": "4QVF0Bz4NIu1",
        "colab_type": "text"
      },
      "source": [
        "## **Pet fee exploration**"
      ]
    },
    {
      "cell_type": "code",
      "metadata": {
        "id": "Wd8neudU0ypT",
        "colab_type": "code",
        "outputId": "8619c678-7403-4e02-d579-03b18b1829bb",
        "colab": {
          "base_uri": "https://localhost:8080/",
          "height": 496
        }
      },
      "source": [
        "fee_col = list(train_csv['Fee'])\n",
        "fee_list = list(set(fee_col))\n",
        "fee_list.sort()\n",
        "fee_dict = {x: fee_col.count(x) for x in fee_list}\n",
        "\n",
        "have_fee_detail = defaultdict(int)\n",
        "no_fee_detail = defaultdict(int)\n",
        "have_fee_amount = sum(x>0 for x in fee_col)\n",
        "no_fee_amount = len(fee_col) - have_fee_amount\n",
        "fee_index = defaultdict(list)\n",
        "\n",
        "print(\"{}({}%) samples have fee\".format(have_fee_amount, 100*(round(1-(fee_col.count(0)/len(fee_col)),2))))\n",
        "print(\"Have {} unique fee values\".format(len(fee_dict)))\n",
        "print(list(fee_dict.items())[:20])\n",
        "\n",
        "for x in range(len(fee_col)):\n",
        "  fee_index[fee_col[x]].append(x)\n",
        "  if fee_col[x] > 0:\n",
        "    have_fee_detail[label_col[x]] += 1\n",
        "  else:\n",
        "    no_fee_detail[label_col[x]] += 1\n",
        "\n",
        "print(\"\\nWith Fee:\\nTotal:{}\".format(have_fee_amount))\n",
        "for x in label_set:\n",
        "  print(\"Speed {}: {}({}%)\".format(x, have_fee_detail[x], round(100*have_fee_detail[x]/have_fee_amount, 2))) \n",
        "  \n",
        "print(\"\\nNo Fee:\\nTotal:{}\".format(no_fee_amount))\n",
        "for x in label_set:\n",
        "  print(\"Speed {}: {}({}%)\".format(x, no_fee_detail[x], round(100*no_fee_detail[x]/no_fee_amount, 2))) \n",
        "\n",
        "print(\"\\nOverall:\\nTotal:{}\".format(len(label_col)))\n",
        "for x in label_set:\n",
        "  print(\"Speed {}: {}({}%)\".format(x, label_col.count(x), round(100*label_col.count(x)/len(label_col), 2)))\n",
        "  "
      ],
      "execution_count": 0,
      "outputs": [
        {
          "output_type": "stream",
          "text": [
            "2330(16.0%) samples have fee\n",
            "Have 74 unique fee values\n",
            "[(0, 12663), (1, 82), (2, 1), (5, 24), (8, 7), (9, 5), (10, 70), (14, 1), (15, 20), (20, 136), (25, 8), (30, 103), (35, 3), (38, 4), (40, 19), (45, 2), (48, 1), (50, 468), (59, 2), (60, 11)]\n",
            "\n",
            "With Fee:\n",
            "Total:2330\n",
            "Speed 0: 53(2.27%)\n",
            "Speed 1: 479(20.56%)\n",
            "Speed 2: 607(26.05%)\n",
            "Speed 3: 470(20.17%)\n",
            "Speed 4: 721(30.94%)\n",
            "\n",
            "No Fee:\n",
            "Total:12663\n",
            "Speed 0: 357(2.82%)\n",
            "Speed 1: 2611(20.62%)\n",
            "Speed 2: 3430(27.09%)\n",
            "Speed 3: 2789(22.02%)\n",
            "Speed 4: 3476(27.45%)\n",
            "\n",
            "Overall:\n",
            "Total:14993\n",
            "Speed 0: 410(2.73%)\n",
            "Speed 1: 3090(20.61%)\n",
            "Speed 2: 4037(26.93%)\n",
            "Speed 3: 3259(21.74%)\n",
            "Speed 4: 4197(27.99%)\n"
          ],
          "name": "stdout"
        }
      ]
    },
    {
      "cell_type": "code",
      "metadata": {
        "id": "Ghiz7pnoL_Ri",
        "colab_type": "code",
        "outputId": "e3eed24c-5325-4e57-c9ed-a36bba95726e",
        "colab": {
          "base_uri": "https://localhost:8080/",
          "height": 823
        }
      },
      "source": [
        "# Plot Speed and count of each fee value\n",
        "print('\\nNumber of price more than 1000: {}\\n'.format(sum(x>1000 for x in fee_col)))\n",
        "fee_dist = defaultdict(list)\n",
        "for x in range(1001)[1:1001]:\n",
        "  for y in label_set:\n",
        "    fee_dist[y].append(0)\n",
        "  for z in fee_index[x]:\n",
        "    fee_dist[label_col[z]][x-1] += 1 \n",
        "\n",
        "import matplotlib.pyplot as plt\n",
        "fig=plt.figure(figsize=(18, 16), dpi= 60, facecolor='w', edgecolor='k')\n",
        "colors = ['r','g','b','y','m']\n",
        "plt.figure(1)\n",
        "for x in range(5):\n",
        "  sub_num = 510 + x + 1\n",
        "  plt.subplot(sub_num)\n",
        "  plt.plot(list(range(1001))[1:1001], fee_dist[x], color=colors[x], label='Speed {}, amount: {}'.format(x, sum(fee_dist[x])))\n",
        "  plt.ylim(0,160)\n",
        "  plt.legend(loc='best', frameon=True, shadow=True)\n",
        "  plt.grid(True)\n",
        "\n",
        "plt.show()"
      ],
      "execution_count": 0,
      "outputs": [
        {
          "output_type": "stream",
          "text": [
            "\n",
            "Number of price more than 1000: 2\n",
            "\n"
          ],
          "name": "stdout"
        },
        {
          "output_type": "display_data",
          "data": {
            "image/png": "[encoded data removed]",
            "text/plain": [
              "<Figure size 1080x960 with 5 Axes>"
            ]
          },
          "metadata": {
            "tags": []
          }
        }
      ]
    },
    {
      "cell_type": "markdown",
      "metadata": {
        "id": "zDwY2lKpO8KO",
        "colab_type": "text"
      },
      "source": [
        "## **Pet breed exploration**"
      ]
    },
    {
      "cell_type": "code",
      "metadata": {
        "id": "IQqAwJhjPI1_",
        "colab_type": "code",
        "outputId": "d8e6f9c1-e23c-4c10-e706-75189728b8f8",
        "colab": {
          "base_uri": "https://localhost:8080/",
          "height": 153
        }
      },
      "source": [
        "# Baisc information of bread for dog and cat\n",
        "type_col = list(train_csv['Type'])\n",
        "breed_label_csv = pd.read_csv('/content/drive/My Drive/Colab Notebooks/EDA_data/breed_labels.csv')\n",
        "breed1_col = list(train_csv['Breed1'])\n",
        "breed2_col = list(train_csv['Breed2'])\n",
        "breed_label_dog = {breed_label_csv['BreedID'][x]: breed_label_csv['BreedName'][x] for x in range(len(breed_label_csv['BreedID'])) if breed_label_csv['Type'][x]==1}\n",
        "breed_label_cat = {breed_label_csv['BreedID'][x]: breed_label_csv['BreedName'][x] for x in range(len(breed_label_csv['BreedID'])) if breed_label_csv['Type'][x]==2}\n",
        "\n",
        "print(\"Total have {} dogs and {} cats\\n\".format(type_col.count(1), type_col.count(2)))\n",
        "print(\"Dog have {} unique breeds\\n\".format(len(breed_label_dog)))\n",
        "print(\"Cat have {} unique breeds\\n\".format(len(breed_label_cat)))\n",
        "print(\"{} samples have breed2, {} of them are not equal to breed1\\n\"\n",
        "      .format(sum(x>0 for x in breed2_col), sum(breed2_col[y]!=breed1_col[y] for y in range(len(breed2_col)) if breed2_col[y]>0)))"
      ],
      "execution_count": 0,
      "outputs": [
        {
          "output_type": "stream",
          "text": [
            "Total have 8132 dogs and 6861 cats\n",
            "\n",
            "Dog have 241 unique breeds\n",
            "\n",
            "Cat have 66 unique breeds\n",
            "\n",
            "4231 samples have breed2, 2721 of them are not equal to breed1\n",
            "\n"
          ],
          "name": "stdout"
        }
      ]
    },
    {
      "cell_type": "code",
      "metadata": {
        "id": "aSj7azz7PljN",
        "colab_type": "code",
        "outputId": "34cd5b71-9f8e-4754-e0f0-0b05bdc05037",
        "colab": {
          "base_uri": "https://localhost:8080/",
          "height": 190
        }
      },
      "source": [
        "# Check distribution of breed1\n",
        "breed1_dog_detail = defaultdict(int)\n",
        "breed1_cat_detail = defaultdict(int)\n",
        "wrong_pair = []\n",
        "for x in range(len(breed1_col)):\n",
        "  breed = breed1_col[x]\n",
        "  if type_col[x] == 1 and breed in breed_label_dog:\n",
        "    breed1_dog_detail[breed_label_dog[breed]] += 1\n",
        "  elif type_col[x] == 2 and breed in breed_label_cat:\n",
        "    breed1_cat_detail[breed_label_cat[breed]] += 1\n",
        "  else:\n",
        "    wrong_pair.append(x)\n",
        "breed1_dog_detail = dict(sorted(breed1_dog_detail.items(), key=operator.itemgetter(1))[::-1])\n",
        "breed1_cat_detail = dict(sorted(breed1_cat_detail.items(), key=operator.itemgetter(1))[::-1])\n",
        "print('Dog breed1 count:\\n{}\\n'.format(breed1_dog_detail))\n",
        "print('Cat breed1 count:\\n{}\\n'.format(breed1_cat_detail))\n",
        "print('Wrong pair (index, breed1, type):\\n{}\\n'.format([(x, breed1_col[x], type_col[x]) for x in wrong_pair]))"
      ],
      "execution_count": 0,
      "outputs": [
        {
          "output_type": "stream",
          "text": [
            "Dog breed1 count:\n",
            "{'Mixed Breed': 5923, 'Labrador Retriever': 205, 'Shih Tzu': 189, 'Poodle': 167, 'Terrier': 161, 'Golden Retriever': 151, 'German Shepherd Dog': 98, 'Beagle': 90, 'Spitz': 89, 'Rottweiler': 88, 'Schnauzer': 69, 'Miniature Pinscher': 67, 'Jack Russell Terrier': 64, 'Doberman Pinscher': 62, 'Cocker Spaniel': 41, 'Dalmatian': 39, 'Chihuahua': 37, 'Husky': 37, 'Dachshund': 28, 'Border Collie': 26, 'Belgian Shepherd Malinois': 26, 'Siberian Husky': 25, 'Silky Terrier': 24, 'Pit Bull Terrier': 23, 'Pomeranian': 22, 'Pug': 21, 'Maltese': 19, 'Pekingese': 18, 'Bull Terrier': 16, 'Corgi': 15, 'Shar Pei': 15, 'Bullmastiff': 12, 'Yellow Labrador Retriever': 12, 'Hound': 11, 'Collie': 11, 'Boxer': 10, 'Basset Hound': 9, 'English Cocker Spaniel': 9, 'Australian Kelpie': 8, 'Black Labrador Retriever': 8, 'West Highland White Terrier Westie': 7, 'Basenji': 6, 'Australian Terrier': 6, 'Great Dane': 6, 'German Pinscher': 6, 'Shepherd': 6, 'Saint Bernard': 5, 'Boston Terrier': 5, 'Yorkshire Terrier Yorkie': 5, 'English Bulldog': 5, 'Rat Terrier': 5, 'Mastiff': 4, 'Retriever': 4, 'German Spitz': 4, 'French Bulldog': 4, 'Jack Russell Terrier (Parson Russell Terrier)': 4, 'Shiba Inu': 3, 'Chow Chow': 3, 'Flat-coated Retriever': 3, 'Irish Setter': 3, 'Shetland Sheepdog Sheltie': 3, 'Weimaraner': 3, 'Black Mouth Cur': 3, 'Toy Fox Terrier': 3, 'Munsterlander': 3, 'American Staffordshire Terrier': 3, 'Kai Dog': 2, 'Scottish Terrier Scottie': 2, 'Fox Terrier': 2, 'Setter': 2, 'Papillon': 2, 'Rhodesian Ridgeback': 2, 'English Springer Spaniel': 2, 'Akita': 2, 'American Water Spaniel': 2, 'Wirehaired Terrier': 2, 'Manchester Terrier': 2, 'Greyhound': 2, 'White German Shepherd': 2, 'Affenpinscher': 2, 'Glen of Imaal Terrier': 2, 'Coonhound': 2, 'Standard Poodle': 2, 'Cavalier King Charles Spaniel': 2, 'Wheaten Terrier': 2, 'Whippet': 2, 'Lhasa Apso': 2, 'Belgian Shepherd Dog Sheepdog': 2, 'Dutch Shepherd': 1, 'Foxhound': 1, 'Lancashire Heeler': 1, 'Cattle Dog': 1, 'Chinese Crested Dog': 1, 'Swedish Vallhund': 1, 'Spaniel': 1, 'Welsh Corgi': 1, 'Airedale Terrier': 1, 'Lowchen': 1, 'Japanese Chin': 1, 'English Pointer': 1, 'American Bulldog': 1, 'Bedlington Terrier': 1, 'Irish Terrier': 1, 'Irish Wolfhound': 1, 'Staffordshire Bull Terrier': 1, 'Pointer': 1, 'Old English Sheepdog': 1, 'Australian Shepherd': 1, 'Sheep Dog': 1, 'Field Spaniel': 1, 'Mountain Dog': 1, 'Samoyed': 1, 'Kuvasz': 1, 'Chocolate Labrador Retriever': 1, 'Belgian Shepherd Laekenois': 1}\n",
            "\n",
            "Cat breed1 count:\n",
            "{'Domestic Short Hair': 3634, 'Domestic Medium Hair': 1258, 'Tabby': 342, 'Domestic Long Hair': 296, 'Siamese': 264, 'Persian': 221, 'Calico': 105, 'American Shorthair': 94, 'Oriental Short Hair': 73, 'Bengal': 71, 'Tuxedo': 56, 'Tortoiseshell': 42, 'British Shorthair': 34, 'Maine Coon': 34, 'Abyssinian': 28, 'Russian Blue': 26, 'Burmese': 23, 'Tiger': 21, 'Bobtail': 19, 'Oriental Long Hair': 17, 'American Curl': 17, 'Ragdoll': 16, 'Bombay': 14, 'Singapura': 13, 'Manx': 8, 'Turkish Van': 8, 'Javanese': 7, 'Turkish Angora': 7, 'Oriental Tabby': 7, 'Japanese Bobtail': 6, 'Exotic Shorthair': 6, 'Somali': 5, 'Tonkinese': 5, 'Burmilla': 5, 'American Wirehair': 5, 'Korat': 5, 'Norwegian Forest Cat': 5, 'Snowshoe': 5, 'Balinese': 4, 'Silver': 4, 'Himalayan': 3, 'Nebelung': 3, 'Dilute Tortoiseshell': 3, 'Siberian': 3, 'Dilute Calico': 3, 'Egyptian Mau': 3, 'Extra-Toes Cat (Hemingway Polydactyl)': 2, 'Cymric': 2, 'Ocicat': 2, 'Chartreux': 2, 'Applehead Siamese': 2, 'Havana': 2, 'Birman': 2, 'Ragamuffin': 1, 'Torbie': 1, 'Sphynx (hairless cat)': 1, 'Chausie': 1, 'Scottish Fold': 1, 'Pixie-Bob': 1}\n",
            "\n",
            "Wrong pair (index, breed1, type):\n",
            "[(22, 114, 2), (391, 0, 1), (1045, 0, 1), (1603, 25, 2), (1638, 21, 2), (3219, 0, 2), (3783, 25, 2), (4233, 218, 2), (6650, 15, 2), (7285, 0, 1), (7300, 70, 2), (7706, 0, 1), (8852, 205, 2), (10911, 307, 2), (13686, 307, 2), (14058, 307, 2), (14470, 307, 2)]\n",
            "\n"
          ],
          "name": "stdout"
        }
      ]
    }
  ]
}